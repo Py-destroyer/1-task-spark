{
 "cells": [
  {
   "cell_type": "code",
   "execution_count": 36,
   "metadata": {},
   "outputs": [],
   "source": [
    "from pyspark.sql import SparkSession\n",
    "from pyspark.sql.functions import initcap\n",
    "from pyspark.sql import functions as F\n",
    "\n",
    "\n",
    "spark = SparkSession.builder.getOrCreate()"
   ]
  },
  {
   "cell_type": "code",
   "execution_count": 40,
   "metadata": {},
   "outputs": [],
   "source": [
    "df_sales = (spark.read.option(\"delimiter\", ',').csv('/Users/denis/Desktop/Andersen/1-task:spark/Raw_data/sales.csv',\n",
    "                                                    header=True, inferSchema=True))\n",
    "df_customers = (spark.read.option(\"delimiter\", ',').csv('/Users/denis/Desktop/Andersen/1-task:spark/Raw_data/customers.csv',\n",
    "                                                    header=True, inferSchema=True))"
   ]
  },
  {
   "cell_type": "code",
   "execution_count": 16,
   "metadata": {},
   "outputs": [
    {
     "name": "stdout",
     "output_type": "stream",
     "text": [
      "+----------+-----------+----------+--------+-----------+\n",
      "|  Txn_Date|Customer_Id|Product_Id|Quantity|Total_Sales|\n",
      "+----------+-----------+----------+--------+-----------+\n",
      "|07-03-2021|       6279|         4|       0|       80.0|\n",
      "|05-03-2021|       1234|         8|       0|      100.0|\n",
      "|19-02-2021|       1698|         3|       0|       30.0|\n",
      "|13-03-2021|        400|         7|       0|       60.0|\n",
      "|13-02-2021|       2270|         1|       2|        0.0|\n",
      "|27-02-2021|       7940|         4|       2|        0.0|\n",
      "|02-03-2021|       9235|        10|       1|        0.0|\n",
      "|30-01-2021|       3382|         9|       2|        0.0|\n",
      "|12-03-2021|       4124|         5|       1|        0.0|\n",
      "|02-01-2021|       2103|         1|       2|       20.0|\n",
      "|04-03-2021|       3965|         5|       1|       10.0|\n",
      "|13-03-2021|       9459|         3|       2|       60.0|\n",
      "|21-01-2021|       8486|         6|       1|       50.0|\n",
      "|01-03-2021|       5523|        10|       1|       25.0|\n",
      "|16-02-2021|       7154|         2|       2|       40.0|\n",
      "|04-02-2021|       9519|         3|       1|       30.0|\n",
      "|07-01-2021|       6424|         3|       1|       30.0|\n",
      "|23-01-2021|       5585|        10|       1|       25.0|\n",
      "|10-03-2021|         17|         8|       1|      100.0|\n",
      "|02-01-2021|       2103|         1|       2|       20.0|\n",
      "+----------+-----------+----------+--------+-----------+\n",
      "only showing top 20 rows\n",
      "\n",
      "+-----------+------+----------+-----------+---------+------+------+----------+--------------------+\n",
      "|Customer_ID|Prefix|First_Name|Middle_Name|Last_Name|Suffix|Gender|       DoB|             Address|\n",
      "+-----------+------+----------+-----------+---------+------+------+----------+--------------------+\n",
      "|          1|   MR.|      PAUL|       NULL|  SHELTON|  NULL|     M|  1/2/1908|225; Hanson Strav...|\n",
      "|          2|  MRS.|      LISA|       NULL|   CLARKE|  NULL|     F|  6/3/1928|95071; Jamie Stre...|\n",
      "|          3|   DR.|       LEE|       NULL| HARRISON|  NULL|     M|12/30/2019|84857; Joshua Cap...|\n",
      "|          4|   MS.|     CHLOE|       NULL|    JONES|  NULL|     F| 5/21/2012|538; Paul Forge P...|\n",
      "|          5|  MRS.|   KRISTEN|       NULL|  JACKSON|  NULL|     F|11/13/1910|253; Cordova Run ...|\n",
      "|          6|  MISS|    MONICA|       NULL|    PITTS|  NULL|     F|10/10/1930|8551; Shari Under...|\n",
      "|          7|  MRS.|   KATELYN|       NULL|   GORDON|  NULL|     F|11/21/1928|88933; James Stre...|\n",
      "|          8|   MR.|      CORY|       NULL|   NEWTON|  NULL|     M| 8/25/2013|920; Gregory Fall...|\n",
      "|          9|   MR.|    DANIEL|       NULL|      LEE|  NULL|     M| 11/5/1917|23384; Randall Pi...|\n",
      "|         10|   MR.|    JUSTIN|       NULL|     ROSS|  NULL|     M| 12/8/2009|801; Jake Union B...|\n",
      "|         11|  MRS.|      JILL|       NULL|   TAYLOR|  NULL|     F| 8/13/1985|638; Hansen Circl...|\n",
      "|         12|   MR.|   ANTHONY|       NULL|   WALKER|  NULL|     M|  6/3/2020|698; Michael Heig...|\n",
      "|         13|  MISS|    SANDRA|       NULL| ANDERSON|  NULL|     F|  8/2/2017|169; Prince Port ...|\n",
      "|         14|  MRS.|   TIFFANY|       NULL|SCHROEDER|  NULL|     F| 2/27/1957|9538; Thomas Miss...|\n",
      "|         15|   DR.|   ZACHARY|       NULL|  SIMPSON|  NULL|     M| 3/26/1968|6446; Hunter Ligh...|\n",
      "|         16|   DR.| CHRISTINA|       NULL|    BANKS|  NULL|     F| 7/25/1997|440; Robinson Vil...|\n",
      "|         17|   MR.|      TONY|       NULL|   MILLER|  NULL|     M|12/16/1956|82609; Michael Bu...|\n",
      "|         18|   MR.|     BILLY|       NULL| ROBINSON|  NULL|     M| 4/19/1996|80929; Charles Me...|\n",
      "|         19|   MS.|     JENNA|       NULL|     DIAZ|  NULL|     F|  3/8/1969|8716; Jenna Haven...|\n",
      "|         20|  MRS.|     ROBIN|       NULL|    DAVIS|  NULL|     F| 3/12/1906|1487; Alicia Stre...|\n",
      "+-----------+------+----------+-----------+---------+------+------+----------+--------------------+\n",
      "only showing top 20 rows\n",
      "\n"
     ]
    }
   ],
   "source": [
    "df_sales.show()\n",
    "df_customers.show()"
   ]
  },
  {
   "cell_type": "code",
   "execution_count": 27,
   "metadata": {},
   "outputs": [
    {
     "name": "stdout",
     "output_type": "stream",
     "text": [
      "+----------+-----------+----------+--------+-----------+\n",
      "|  Txn_Date|Customer_Id|Product_Id|Quantity|Total_Sales|\n",
      "+----------+-----------+----------+--------+-----------+\n",
      "|23-01-2021|       3445|         9|       1|       10.0|\n",
      "|02-03-2021|       6918|         6|       1|       50.0|\n",
      "|11-02-2021|       1585|         3|       1|       30.0|\n",
      "|08-01-2021|       5719|         2|       2|       40.0|\n",
      "|05-01-2021|       7647|         9|       1|       10.0|\n",
      "|11-01-2021|       5770|        10|       2|       50.0|\n",
      "|21-02-2021|       2879|         9|       1|       10.0|\n",
      "|17-02-2021|       7649|         6|       2|      100.0|\n",
      "|05-03-2021|       8201|         3|       1|       30.0|\n",
      "|02-02-2021|       1571|         2|       2|       40.0|\n",
      "|17-02-2021|       2703|         7|       1|       60.0|\n",
      "|09-01-2021|       6584|         5|       2|       20.0|\n",
      "|13-02-2021|       7373|         4|       2|       80.0|\n",
      "|04-02-2021|       7797|         6|       1|       50.0|\n",
      "|18-01-2021|       9005|         2|       1|       20.0|\n",
      "|18-01-2021|       3883|         1|       1|       10.0|\n",
      "|06-01-2021|        952|         9|       1|       10.0|\n",
      "|24-02-2021|       1737|         2|       1|       20.0|\n",
      "|04-03-2021|       7358|         9|       1|       10.0|\n",
      "|01-03-2021|       2476|         2|       2|       40.0|\n",
      "+----------+-----------+----------+--------+-----------+\n",
      "only showing top 20 rows\n",
      "\n"
     ]
    }
   ],
   "source": [
    "df_sales = df_sales.dropDuplicates()\n",
    "df_sales.show()"
   ]
  },
  {
   "cell_type": "code",
   "execution_count": 41,
   "metadata": {},
   "outputs": [
    {
     "name": "stdout",
     "output_type": "stream",
     "text": [
      "+-----------+------+----------+---------+------+-----------+--------------------+\n",
      "|Customer_ID|Prefix|First_Name|Last_Name|Gender|DateOfBirth|             Address|\n",
      "+-----------+------+----------+---------+------+-----------+--------------------+\n",
      "|       1763|   DR.|   Anthony|  Parsons|     M|  12/7/1960|86; Stokes Island...|\n",
      "|       1845|   DR.|   Timothy|   Ibarra|     M| 10/24/1944|758; Farrell Spri...|\n",
      "|       2231|   MR.|      Ryan|   Garcia|     M|  5/17/1932|655; Paul Manor P...|\n",
      "|       2522|   MS.|     Julie|   Taylor|     F|  2/14/1994|720; Shannon Shor...|\n",
      "|       2585|  MRS.|  Stefanie|   Lawson|     F|  7/13/1983|361; Megan Lights...|\n",
      "|       2617|   DR.|      Alex|    Young|     M| 12/28/1943|2466; Veronica Pa...|\n",
      "|       2723|   MR.|    Rodney|   Bright|     M|  1/23/1974|6921; Hall Villag...|\n",
      "|       3038|  MRS.|     Karen|    Cooke|     F|  1/10/1925|7504; Wiggins Ext...|\n",
      "|       3379|  MRS.| Elizabeth|     Sims|     F| 11/24/1954|52122; Ward Shoal...|\n",
      "|       3400|   DR.|    Steven|    Clark|     M|  7/25/1908|7995; Hall Valley...|\n",
      "|       3414|   DR.|     Becky|    Banks|     F|  7/17/1947|56769; Scott Fork...|\n",
      "|       3485|   MR.|     Bryan|  Manning|     M|  4/26/1988|50384; Peters Wal...|\n",
      "|       4032|   MR.|     Ricky| Mitchell|     M|  2/28/1988|1772; May Landing...|\n",
      "|       4045|   MR.|      John|   Butler|     M| 10/15/1936|4791; Harper Isla...|\n",
      "|       4063|   MS.|     Kelly|   Austin|     F|  9/28/1967|1859; Martha Hill...|\n",
      "|       4616|  MRS.|     Grace| Williams|     F|  5/27/1948|673; Griffin Plaz...|\n",
      "|       4653|  MRS.|     Janet|     Ryan|     F|   7/1/1970|96719; Sabrina Or...|\n",
      "|       4671|   DR.|Jacqueline| Whitaker|     F|   8/4/2016|708; Hicks Meadow...|\n",
      "|       4720|   DR.|  Danielle|Robertson|     F|  1/10/1956|5095; Allen Curve...|\n",
      "|       4727|   DR.|     David|       Yu|     M|  1/30/2008|5079; Robert Ways...|\n",
      "+-----------+------+----------+---------+------+-----------+--------------------+\n",
      "only showing top 20 rows\n",
      "\n"
     ]
    },
    {
     "data": {
      "text/plain": [
       "[('Customer_ID', 'int'),\n",
       " ('Prefix', 'string'),\n",
       " ('First_Name', 'string'),\n",
       " ('Last_Name', 'string'),\n",
       " ('Gender', 'string'),\n",
       " ('DateOfBirth', 'string'),\n",
       " ('Address', 'string')]"
      ]
     },
     "execution_count": 41,
     "metadata": {},
     "output_type": "execute_result"
    }
   ],
   "source": [
    "df_customers = df_customers.dropDuplicates()\n",
    "df_customers = df_customers.drop('Middle_Name', 'Suffix')\n",
    "df_customers = df_customers.withColumn('First_Name', initcap(df_customers['First_Name']))\\\n",
    "            .withColumn('Last_Name', initcap(df_customers['Last_Name']))\n",
    "df_customers = df_customers.withColumnRenamed('DoB', 'DateOfBirth')\n",
    "df_customers.show()\n",
    "df_customers.dtypes"
   ]
  },
  {
   "cell_type": "code",
   "execution_count": null,
   "metadata": {},
   "outputs": [],
   "source": []
  },
  {
   "cell_type": "code",
   "execution_count": null,
   "metadata": {},
   "outputs": [],
   "source": []
  }
 ],
 "metadata": {
  "kernelspec": {
   "display_name": "Python 3",
   "language": "python",
   "name": "python3"
  },
  "language_info": {
   "codemirror_mode": {
    "name": "ipython",
    "version": 3
   },
   "file_extension": ".py",
   "mimetype": "text/x-python",
   "name": "python",
   "nbconvert_exporter": "python",
   "pygments_lexer": "ipython3",
   "version": "3.10.2"
  },
  "orig_nbformat": 4
 },
 "nbformat": 4,
 "nbformat_minor": 2
}
