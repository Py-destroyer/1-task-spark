{
 "cells": [
  {
   "cell_type": "code",
   "execution_count": 58,
   "metadata": {},
   "outputs": [],
   "source": [
    "from pyspark.sql import SparkSession\n",
    "from pyspark.sql.functions import initcap\n",
    "from pyspark.sql import functions as F\n",
    "from pyspark.sql.functions import regexp_replace\n",
    "from pyspark.sql.functions import sum, col\n",
    "\n",
    "spark = SparkSession.builder.getOrCreate()"
   ]
  },
  {
   "cell_type": "code",
   "execution_count": 59,
   "metadata": {},
   "outputs": [],
   "source": [
    "df_sales = (spark.read.option(\"delimiter\", ',').csv('/Users/denis/Desktop/Andersen/1-task:spark/Raw_data/sales.csv',\n",
    "                                                    header=True, inferSchema=True))\n",
    "df_customers = (spark.read.option(\"delimiter\", ',').csv('/Users/denis/Desktop/Andersen/1-task:spark/Raw_data/customers.csv',\n",
    "                                                    header=True, inferSchema=True))"
   ]
  },
  {
   "cell_type": "code",
   "execution_count": 60,
   "metadata": {},
   "outputs": [
    {
     "name": "stdout",
     "output_type": "stream",
     "text": [
      "+----------+-----------+----------+--------+-----------+\n",
      "|  Txn_Date|Customer_Id|Product_Id|Quantity|Total_Sales|\n",
      "+----------+-----------+----------+--------+-----------+\n",
      "|07-03-2021|       6279|         4|       0|       80.0|\n",
      "|05-03-2021|       1234|         8|       0|      100.0|\n",
      "|19-02-2021|       1698|         3|       0|       30.0|\n",
      "|13-03-2021|        400|         7|       0|       60.0|\n",
      "|13-02-2021|       2270|         1|       2|        0.0|\n",
      "|27-02-2021|       7940|         4|       2|        0.0|\n",
      "|02-03-2021|       9235|        10|       1|        0.0|\n",
      "|30-01-2021|       3382|         9|       2|        0.0|\n",
      "|12-03-2021|       4124|         5|       1|        0.0|\n",
      "|02-01-2021|       2103|         1|       2|       20.0|\n",
      "|04-03-2021|       3965|         5|       1|       10.0|\n",
      "|13-03-2021|       9459|         3|       2|       60.0|\n",
      "|21-01-2021|       8486|         6|       1|       50.0|\n",
      "|01-03-2021|       5523|        10|       1|       25.0|\n",
      "|16-02-2021|       7154|         2|       2|       40.0|\n",
      "|04-02-2021|       9519|         3|       1|       30.0|\n",
      "|07-01-2021|       6424|         3|       1|       30.0|\n",
      "|23-01-2021|       5585|        10|       1|       25.0|\n",
      "|10-03-2021|         17|         8|       1|      100.0|\n",
      "|02-01-2021|       2103|         1|       2|       20.0|\n",
      "+----------+-----------+----------+--------+-----------+\n",
      "only showing top 20 rows\n",
      "\n",
      "+-----------+------+----------+-----------+---------+------+------+----------+------------------------------------------------------------+\n",
      "|Customer_ID|Prefix|First_Name|Middle_Name|Last_Name|Suffix|Gender|DoB       |Address                                                     |\n",
      "+-----------+------+----------+-----------+---------+------+------+----------+------------------------------------------------------------+\n",
      "|1          |MR.   |PAUL      |NULL       |SHELTON  |NULL  |M     |1/2/1908  |225; Hanson Stravenue Spring; Porterville&; <30001>; US     |\n",
      "|2          |MRS.  |LISA      |NULL       |CLARKE   |NULL  |F     |6/3/1928  |95071; Jamie Street Plain; Bourbonnais&; <30080>; US        |\n",
      "|3          |DR.   |LEE       |NULL       |HARRISON |NULL  |M     |12/30/2019|84857; Joshua Cape Course; Nutley&; <30024>; US             |\n",
      "|4          |MS.   |CHLOE     |NULL       |JONES    |NULL  |F     |5/21/2012 |538; Paul Forge Ports; Palestine&; <30020>; US              |\n",
      "|5          |MRS.  |KRISTEN   |NULL       |JACKSON  |NULL  |F     |11/13/1910|253; Cordova Run Rapid; Acworth&; <30060>; US               |\n",
      "|6          |MISS  |MONICA    |NULL       |PITTS    |NULL  |F     |10/10/1930|8551; Shari Underpass Mews; Beaumont&; <30071>; US          |\n",
      "|7          |MRS.  |KATELYN   |NULL       |GORDON   |NULL  |F     |11/21/1928|88933; James Street Spurs; Thomasville&; <30052>; US        |\n",
      "|8          |MR.   |CORY      |NULL       |NEWTON   |NULL  |M     |8/25/2013 |920; Gregory Fall Mews; Nutley&; <30023>; US                |\n",
      "|9          |MR.   |DANIEL    |NULL       |LEE      |NULL  |M     |11/5/1917 |23384; Randall Pines Square; Gates-North Gates&; <30020>; US|\n",
      "|10         |MR.   |JUSTIN    |NULL       |ROSS     |NULL  |M     |12/8/2009 |801; Jake Union Bridge; Vestavia Hills&; <30098>; US        |\n",
      "|11         |MRS.  |JILL      |NULL       |TAYLOR   |NULL  |F     |8/13/1985 |638; Hansen Circle Views; Hutchinson&; <30066>; US          |\n",
      "|12         |MR.   |ANTHONY   |NULL       |WALKER   |NULL  |M     |6/3/2020  |698; Michael Heights Fort; Indio&; <30049>; US              |\n",
      "|13         |MISS  |SANDRA    |NULL       |ANDERSON |NULL  |F     |8/2/2017  |169; Prince Port Motorway; Longview&; <30072>; US           |\n",
      "|14         |MRS.  |TIFFANY   |NULL       |SCHROEDER|NULL  |F     |2/27/1957 |9538; Thomas Mission Prairie; Grand Forks&; <30024>; US     |\n",
      "|15         |DR.   |ZACHARY   |NULL       |SIMPSON  |NULL  |M     |3/26/1968 |6446; Hunter Lights Brooks; Fitchburg&; <30074>; US         |\n",
      "|16         |DR.   |CHRISTINA |NULL       |BANKS    |NULL  |F     |7/25/1997 |440; Robinson Village Hill; Acworth&; <30038>; US           |\n",
      "|17         |MR.   |TONY      |NULL       |MILLER   |NULL  |M     |12/16/1956|82609; Michael Burgs Knoll; San Juan&; <30094>; US          |\n",
      "|18         |MR.   |BILLY     |NULL       |ROBINSON |NULL  |M     |4/19/1996 |80929; Charles Mews Trail; Laguna Niguel&; <30099>; US      |\n",
      "|19         |MS.   |JENNA     |NULL       |DIAZ     |NULL  |F     |3/8/1969  |8716; Jenna Haven Corners; Murray&; <30074>; US             |\n",
      "|20         |MRS.  |ROBIN     |NULL       |DAVIS    |NULL  |F     |3/12/1906 |1487; Alicia Street Mission; Indio&; <30011>; US            |\n",
      "+-----------+------+----------+-----------+---------+------+------+----------+------------------------------------------------------------+\n",
      "only showing top 20 rows\n",
      "\n"
     ]
    }
   ],
   "source": [
    "df_sales.show()\n",
    "df_customers.show(truncate=False)"
   ]
  },
  {
   "cell_type": "code",
   "execution_count": 62,
   "metadata": {},
   "outputs": [
    {
     "name": "stdout",
     "output_type": "stream",
     "text": [
      "+-----------+------+----------+---------+------+-----------+-----------------------------------------------------------+\n",
      "|Customer_ID|Prefix|First_Name|Last_Name|Gender|DateOfBirth|Address                                                    |\n",
      "+-----------+------+----------+---------+------+-----------+-----------------------------------------------------------+\n",
      "|1763       |Dr.   |Anthony   |Parsons  |M     |1960-12-07 |86; Stokes Island Forge; Abilene&; <30004>; US             |\n",
      "|1845       |Dr.   |Timothy   |Ibarra   |M     |1944-10-24 |758; Farrell Springs Lock; Troutdale&; <30096>; US         |\n",
      "|2231       |Mr.   |Ryan      |Garcia   |M     |1932-05-17 |655; Paul Manor Pike; Fitchburg&; <30013>; US              |\n",
      "|2522       |Ms.   |Julie     |Taylor   |F     |1994-02-14 |720; Shannon Shore Viaduct; Schererville&; <30092>; US     |\n",
      "|2585       |Mrs.  |Stefanie  |Lawson   |F     |1983-07-13 |361; Megan Lights Ridge; Harrisburg&; <30098>; US          |\n",
      "|2617       |Dr.   |Alex      |Young    |M     |1943-12-28 |2466; Veronica Park Canyon; Rutland&; <30046>; US          |\n",
      "|2723       |Mr.   |Rodney    |Bright   |M     |1974-01-23 |6921; Hall Villages Station; Yonkers&; <30001>; US         |\n",
      "|3038       |Mrs.  |Karen     |Cooke    |F     |1925-01-10 |7504; Wiggins Extensions Motorway; Greenville&; <30071>; US|\n",
      "|3379       |Mrs.  |Elizabeth |Sims     |F     |1954-11-24 |52122; Ward Shoal Roads; Port Huron&; <30026>; US          |\n",
      "|3400       |Dr.   |Steven    |Clark    |M     |1908-07-25 |7995; Hall Valley Radial; Peabody&; <30051>; US            |\n",
      "|3414       |Dr.   |Becky     |Banks    |F     |1947-07-17 |56769; Scott Forks Radial; Scottsdale&; <30070>; US        |\n",
      "|3485       |Mr.   |Bryan     |Manning  |M     |1988-04-26 |50384; Peters Walk Valley; Kensington&; <30080>; US        |\n",
      "|4032       |Mr.   |Ricky     |Mitchell |M     |1988-02-28 |1772; May Landing Springs; Boston&; <30060>; US            |\n",
      "|4045       |Mr.   |John      |Butler   |M     |1936-10-15 |4791; Harper Islands Green; Venice&; <30033>; US           |\n",
      "|4063       |Ms.   |Kelly     |Austin   |F     |1967-09-28 |1859; Martha Hill Curve; Front Royal&; <30050>; US         |\n",
      "|4616       |Mrs.  |Grace     |Williams |F     |1948-05-27 |673; Griffin Plaza Square; Aurora&; <30099>; US            |\n",
      "|4653       |Mrs.  |Janet     |Ryan     |F     |1970-07-01 |96719; Sabrina Orchard Turnpike; San Juan&; <30022>; US    |\n",
      "|4671       |Dr.   |Jacqueline|Whitaker |F     |2016-08-04 |708; Hicks Meadows Roads; Hutto&; <30017>; US              |\n",
      "|4720       |Dr.   |Danielle  |Robertson|F     |1956-01-10 |5095; Allen Curve Field; Independence&; <30057>; US        |\n",
      "|4727       |Dr.   |David     |Yu       |M     |2008-01-30 |5079; Robert Ways Stravenue; Aurora&; <30070>; US          |\n",
      "+-----------+------+----------+---------+------+-----------+-----------------------------------------------------------+\n",
      "only showing top 20 rows\n",
      "\n"
     ]
    },
    {
     "data": {
      "text/plain": [
       "[('Customer_ID', 'int'),\n",
       " ('Prefix', 'string'),\n",
       " ('First_Name', 'string'),\n",
       " ('Last_Name', 'string'),\n",
       " ('Gender', 'string'),\n",
       " ('DateOfBirth', 'date'),\n",
       " ('Address', 'string')]"
      ]
     },
     "execution_count": 62,
     "metadata": {},
     "output_type": "execute_result"
    }
   ],
   "source": [
    "# Data cleansing\n",
    "df_sales = df_sales.dropDuplicates()\n",
    "\n",
    "\n",
    "df_customers = df_customers.dropDuplicates()\n",
    "df_customers = df_customers.drop('Middle_Name', 'Suffix')\n",
    "df_customers = df_customers.withColumn('First_Name', initcap(df_customers['First_Name'])) \\\n",
    "            .withColumn('Last_Name', initcap(df_customers['Last_Name'])) \\\n",
    "            .withColumn('Prefix', initcap(df_customers['Prefix']))\n",
    "df_customers = df_customers.withColumnRenamed('DoB', 'DateOfBirth')\n",
    "df_customers = df_customers.withColumn('DateOfBirth', F.to_date(df_customers['DateOfBirth'], 'M/d/y'))\n",
    "\n",
    "df_customers.show(truncate=False)\n",
    "df_customers.dtypes"
   ]
  },
  {
   "cell_type": "code",
   "execution_count": 63,
   "metadata": {},
   "outputs": [
    {
     "name": "stdout",
     "output_type": "stream",
     "text": [
      "+-----------+------+----------+---------+------+-----------+---------------------------------+-------------+------+-------+\n",
      "|Customer_ID|Prefix|First_Name|Last_Name|Gender|DateOfBirth|Street                           |City         |Zip   |Country|\n",
      "+-----------+------+----------+---------+------+-----------+---------------------------------+-------------+------+-------+\n",
      "|1763       |Dr.   |Anthony   |Parsons  |M     |1960-12-07 |86  Stokes Island Forge          | Abilene     | 30004| US    |\n",
      "|1845       |Dr.   |Timothy   |Ibarra   |M     |1944-10-24 |758  Farrell Springs Lock        | Troutdale   | 30096| US    |\n",
      "|2231       |Mr.   |Ryan      |Garcia   |M     |1932-05-17 |655  Paul Manor Pike             | Fitchburg   | 30013| US    |\n",
      "|2522       |Ms.   |Julie     |Taylor   |F     |1994-02-14 |720  Shannon Shore Viaduct       | Schererville| 30092| US    |\n",
      "|2585       |Mrs.  |Stefanie  |Lawson   |F     |1983-07-13 |361  Megan Lights Ridge          | Harrisburg  | 30098| US    |\n",
      "|2617       |Dr.   |Alex      |Young    |M     |1943-12-28 |2466  Veronica Park Canyon       | Rutland     | 30046| US    |\n",
      "|2723       |Mr.   |Rodney    |Bright   |M     |1974-01-23 |6921  Hall Villages Station      | Yonkers     | 30001| US    |\n",
      "|3038       |Mrs.  |Karen     |Cooke    |F     |1925-01-10 |7504  Wiggins Extensions Motorway| Greenville  | 30071| US    |\n",
      "|3379       |Mrs.  |Elizabeth |Sims     |F     |1954-11-24 |52122  Ward Shoal Roads          | Port Huron  | 30026| US    |\n",
      "|3400       |Dr.   |Steven    |Clark    |M     |1908-07-25 |7995  Hall Valley Radial         | Peabody     | 30051| US    |\n",
      "|3414       |Dr.   |Becky     |Banks    |F     |1947-07-17 |56769  Scott Forks Radial        | Scottsdale  | 30070| US    |\n",
      "|3485       |Mr.   |Bryan     |Manning  |M     |1988-04-26 |50384  Peters Walk Valley        | Kensington  | 30080| US    |\n",
      "|4032       |Mr.   |Ricky     |Mitchell |M     |1988-02-28 |1772  May Landing Springs        | Boston      | 30060| US    |\n",
      "|4045       |Mr.   |John      |Butler   |M     |1936-10-15 |4791  Harper Islands Green       | Venice      | 30033| US    |\n",
      "|4063       |Ms.   |Kelly     |Austin   |F     |1967-09-28 |1859  Martha Hill Curve          | Front Royal | 30050| US    |\n",
      "|4616       |Mrs.  |Grace     |Williams |F     |1948-05-27 |673  Griffin Plaza Square        | Aurora      | 30099| US    |\n",
      "|4653       |Mrs.  |Janet     |Ryan     |F     |1970-07-01 |96719  Sabrina Orchard Turnpike  | San Juan    | 30022| US    |\n",
      "|4671       |Dr.   |Jacqueline|Whitaker |F     |2016-08-04 |708  Hicks Meadows Roads         | Hutto       | 30017| US    |\n",
      "|4720       |Dr.   |Danielle  |Robertson|F     |1956-01-10 |5095  Allen Curve Field          | Independence| 30057| US    |\n",
      "|4727       |Dr.   |David     |Yu       |M     |2008-01-30 |5079  Robert Ways Stravenue      | Aurora      | 30070| US    |\n",
      "+-----------+------+----------+---------+------+-----------+---------------------------------+-------------+------+-------+\n",
      "only showing top 20 rows\n",
      "\n"
     ]
    }
   ],
   "source": [
    "df_customers = df_customers.withColumn('Address', regexp_replace(df_customers['Address'], '[&<>]',''))\n",
    "df_customers = df_customers.withColumn('Street', F.concat_ws(' ', F.split(df_customers['Address'], ';').getItem(0), \n",
    "                                                    F.split(df_customers['Address'], ';').getItem(1))) \\\n",
    "                            .withColumn('City', F.split(df_customers['Address'], ';').getItem(2)) \\\n",
    "                            .withColumn('Zip', F.split(df_customers['Address'], ';').getItem(3)) \\\n",
    "                            .withColumn('Country', F.split(df_customers['Address'], ';').getItem(4))\n",
    "df_customers = df_customers.drop('Address')\n",
    "df_customers.show(truncate=False)"
   ]
  },
  {
   "cell_type": "code",
   "execution_count": 64,
   "metadata": {},
   "outputs": [
    {
     "name": "stdout",
     "output_type": "stream",
     "text": [
      "+-----------+------+----------+---------+------+-----------+---------------------------------+------------+------+-------+----------+----------+--------+-----------+\n",
      "|Customer_ID|Prefix|First_Name|Last_Name|Gender|DateOfBirth|Street                           |City        |Zip   |Country|Txn_Date  |Product_Id|Quantity|Total_Sales|\n",
      "+-----------+------+----------+---------+------+-----------+---------------------------------+------------+------+-------+----------+----------+--------+-----------+\n",
      "|2231       |Mr.   |Ryan      |Garcia   |M     |1932-05-17 |655  Paul Manor Pike             | Fitchburg  | 30013| US    |01-02-2021|16        |2       |20.0       |\n",
      "|2585       |Mrs.  |Stefanie  |Lawson   |F     |1983-07-13 |361  Megan Lights Ridge          | Harrisburg | 30098| US    |10-03-2021|11        |2       |50.0       |\n",
      "|2585       |Mrs.  |Stefanie  |Lawson   |F     |1983-07-13 |361  Megan Lights Ridge          | Harrisburg | 30098| US    |19-02-2021|10        |2       |50.0       |\n",
      "|2723       |Mr.   |Rodney    |Bright   |M     |1974-01-23 |6921  Hall Villages Station      | Yonkers    | 30001| US    |25-01-2021|21        |1       |25.0       |\n",
      "|3038       |Mrs.  |Karen     |Cooke    |F     |1925-01-10 |7504  Wiggins Extensions Motorway| Greenville | 30071| US    |18-02-2021|2         |2       |40.0       |\n",
      "|3038       |Mrs.  |Karen     |Cooke    |F     |1925-01-10 |7504  Wiggins Extensions Motorway| Greenville | 30071| US    |27-02-2021|3         |2       |60.0       |\n",
      "|3038       |Mrs.  |Karen     |Cooke    |F     |1925-01-10 |7504  Wiggins Extensions Motorway| Greenville | 30071| US    |16-01-2021|13        |1       |20.0       |\n",
      "|3379       |Mrs.  |Elizabeth |Sims     |F     |1954-11-24 |52122  Ward Shoal Roads          | Port Huron | 30026| US    |27-02-2021|1         |1       |10.0       |\n",
      "|3379       |Mrs.  |Elizabeth |Sims     |F     |1954-11-24 |52122  Ward Shoal Roads          | Port Huron | 30026| US    |13-02-2021|11        |1       |25.0       |\n",
      "|3400       |Dr.   |Steven    |Clark    |M     |1908-07-25 |7995  Hall Valley Radial         | Peabody    | 30051| US    |13-01-2021|6         |1       |50.0       |\n",
      "|3414       |Dr.   |Becky     |Banks    |F     |1947-07-17 |56769  Scott Forks Radial        | Scottsdale | 30070| US    |13-01-2021|9         |2       |20.0       |\n",
      "|3414       |Dr.   |Becky     |Banks    |F     |1947-07-17 |56769  Scott Forks Radial        | Scottsdale | 30070| US    |13-01-2021|2         |2       |40.0       |\n",
      "|3485       |Mr.   |Bryan     |Manning  |M     |1988-04-26 |50384  Peters Walk Valley        | Kensington | 30080| US    |24-01-2021|22        |2       |50.0       |\n",
      "|3485       |Mr.   |Bryan     |Manning  |M     |1988-04-26 |50384  Peters Walk Valley        | Kensington | 30080| US    |26-02-2021|3         |2       |60.0       |\n",
      "|3485       |Mr.   |Bryan     |Manning  |M     |1988-04-26 |50384  Peters Walk Valley        | Kensington | 30080| US    |24-01-2021|2         |1       |20.0       |\n",
      "|4032       |Mr.   |Ricky     |Mitchell |M     |1988-02-28 |1772  May Landing Springs        | Boston     | 30060| US    |19-02-2021|7         |2       |120.0      |\n",
      "|4045       |Mr.   |John      |Butler   |M     |1936-10-15 |4791  Harper Islands Green       | Venice     | 30033| US    |02-01-2021|5         |1       |10.0       |\n",
      "|4045       |Mr.   |John      |Butler   |M     |1936-10-15 |4791  Harper Islands Green       | Venice     | 30033| US    |21-02-2021|10        |2       |50.0       |\n",
      "|4063       |Ms.   |Kelly     |Austin   |F     |1967-09-28 |1859  Martha Hill Curve          | Front Royal| 30050| US    |27-01-2021|1         |1       |10.0       |\n",
      "|4063       |Ms.   |Kelly     |Austin   |F     |1967-09-28 |1859  Martha Hill Curve          | Front Royal| 30050| US    |27-02-2021|2         |2       |40.0       |\n",
      "+-----------+------+----------+---------+------+-----------+---------------------------------+------------+------+-------+----------+----------+--------+-----------+\n",
      "only showing top 20 rows\n",
      "\n"
     ]
    }
   ],
   "source": [
    "df_joined = df_customers.join(df_sales, 'Customer_ID')\n",
    "df_joined.show(truncate=False)"
   ]
  },
  {
   "cell_type": "code",
   "execution_count": 65,
   "metadata": {},
   "outputs": [
    {
     "name": "stdout",
     "output_type": "stream",
     "text": [
      "+-----------+------+-----------+---------+-----------+---------------+\n",
      "|Customer_ID|Prefix|First_Name |Last_Name|DateOfBirth|Total_Sales_Sum|\n",
      "+-----------+------+-----------+---------+-----------+---------------+\n",
      "|6164       |Mr.   |Thomas     |Dunlap   |1983-04-11 |50.0           |\n",
      "|5551       |Dr.   |Edward     |Hill     |1974-03-05 |60.0           |\n",
      "|5307       |Mr.   |Bryan      |Hamilton |1993-03-01 |20.0           |\n",
      "|3810       |Mr.   |Kyle       |Martin   |1930-06-28 |120.0          |\n",
      "|9593       |Mr.   |Timothy    |Payne    |2018-06-24 |200.0          |\n",
      "|6540       |Dr.   |Jordan     |Adams    |1989-08-11 |90.0           |\n",
      "|3317       |Dr.   |Amanda     |Ross     |1913-03-12 |60.0           |\n",
      "|7487       |Mr.   |Trevor     |Edwards  |1998-11-07 |120.0          |\n",
      "|209        |Mr.   |Gilbert    |Hurley   |1941-03-11 |370.0          |\n",
      "|1018       |Mrs.  |Crystal    |Huffman  |1920-04-23 |50.0           |\n",
      "|5157       |Mrs.  |Savannah   |Ashley   |1973-04-02 |150.0          |\n",
      "|6276       |Mr.   |Michael    |Rice     |2002-10-22 |100.0          |\n",
      "|4163       |Mrs.  |Jessica    |Adams    |1995-03-07 |50.0           |\n",
      "|4981       |Mr.   |Thomas     |Wilson   |1963-08-14 |110.0          |\n",
      "|5576       |Dr.   |Megan      |Novak    |1976-04-21 |40.0           |\n",
      "|4091       |Mrs.  |Kayla      |Hill     |2011-01-16 |120.0          |\n",
      "|8382       |Mrs.  |Brenda     |Bass     |1974-01-19 |140.0          |\n",
      "|3123       |Dr.   |Christopher|Green    |2018-01-09 |40.0           |\n",
      "|3576       |Mrs.  |Autumn     |Harmon   |2020-02-07 |40.0           |\n",
      "|8264       |Mrs.  |Paige      |Vaughn   |1974-02-14 |170.0          |\n",
      "+-----------+------+-----------+---------+-----------+---------------+\n",
      "only showing top 20 rows\n",
      "\n"
     ]
    }
   ],
   "source": [
    "result = df_joined.groupBy('Customer_ID','Prefix','First_Name', 'Last_Name', 'DateOfBirth').agg(sum('Total_Sales').alias('Total_Sales_Sum'))\n",
    "result.show(truncate=False)"
   ]
  },
  {
   "cell_type": "code",
   "execution_count": null,
   "metadata": {},
   "outputs": [],
   "source": []
  }
 ],
 "metadata": {
  "kernelspec": {
   "display_name": "Python 3",
   "language": "python",
   "name": "python3"
  },
  "language_info": {
   "codemirror_mode": {
    "name": "ipython",
    "version": 3
   },
   "file_extension": ".py",
   "mimetype": "text/x-python",
   "name": "python",
   "nbconvert_exporter": "python",
   "pygments_lexer": "ipython3",
   "version": "3.10.2"
  },
  "orig_nbformat": 4
 },
 "nbformat": 4,
 "nbformat_minor": 2
}
